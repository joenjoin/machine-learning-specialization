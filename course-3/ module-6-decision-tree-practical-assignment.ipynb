{
 "cells": [
  {
   "cell_type": "markdown",
   "metadata": {},
   "source": [
    "# Decision Trees in Practice\n",
    "\n",
    "In this assignment we will explore various techniques for preventing overfitting in decision trees. We will extend the implementation of the binary decision trees that we implemented in the previous assignment. You will have to use your solutions from this previous assignment and extend them.\n",
    "\n",
    "In this assignment you will:\n",
    "\n",
    "- Implement binary decision trees with different early stopping methods.\n",
    "- Compare models with different stopping parameters.\n",
    "- Visualize the concept of overfitting in decision trees."
   ]
  },
  {
   "cell_type": "markdown",
   "metadata": {},
   "source": [
    "## Load data set"
   ]
  },
  {
   "cell_type": "code",
   "execution_count": null,
   "metadata": {
    "collapsed": false
   },
   "outputs": [],
   "source": [
    "import sframe\n",
    "loans = sframe.SFrame('lending-club-data.gl/')"
   ]
  },
  {
   "cell_type": "markdown",
   "metadata": {},
   "source": [
    "As before, we reassign the labels to have +1 for a safe loan, and -1 for a risky (bad) loan. You should have code analogous to"
   ]
  },
  {
   "cell_type": "code",
   "execution_count": null,
   "metadata": {
    "collapsed": true
   },
   "outputs": [],
   "source": [
    "loans['safe_loans'] = loans['bad_loans'].apply(lambda x : +1 if x==0 else -1)\n",
    "loans = loans.remove_column('bad_loans')"
   ]
  },
  {
   "cell_type": "markdown",
   "metadata": {},
   "source": [
    "We will be using the same 4 categorical features as in the previous assignment:"
   ]
  },
  {
   "cell_type": "code",
   "execution_count": null,
   "metadata": {
    "collapsed": true
   },
   "outputs": [],
   "source": [
    "features = ['grade',              # grade of the loan\n",
    "            'term',               # the term of the loan\n",
    "            'home_ownership',     # home_ownership status: own, mortgage or rent\n",
    "            'emp_length',         # number of years of employment\n",
    "           ]\n",
    "target = 'safe_loans'"
   ]
  },
  {
   "cell_type": "markdown",
   "metadata": {},
   "source": [
    "Extract these feature columns and target column from the dataset, and discard the rest of the feature columns."
   ]
  },
  {
   "cell_type": "code",
   "execution_count": null,
   "metadata": {
    "collapsed": true
   },
   "outputs": [],
   "source": [
    "loans = loans[features+[target]]"
   ]
  },
  {
   "cell_type": "markdown",
   "metadata": {},
   "source": [
    "## Subsample dataset to make sure classes are balanced\n",
    "\n",
    "Just as we did in the previous assignment, we will undersample the larger class (safe loans) in order to balance out our dataset. This means we are throwing away many data points."
   ]
  },
  {
   "cell_type": "code",
   "execution_count": null,
   "metadata": {
    "collapsed": false
   },
   "outputs": [],
   "source": [
    "safe_loans_raw = loans[loans[target] == 1]\n",
    "risky_loans_raw = loans[loans[target] == -1]\n",
    "\n",
    "# Since there are less risky loans than safe loans, find the ratio of the sizes\n",
    "# and use that percentage to undersample the safe loans.\n",
    "percentage = len(risky_loans_raw)/float(len(safe_loans_raw))\n",
    "safe_loans = safe_loans_raw.sample(percentage, seed = 1)\n",
    "risky_loans = risky_loans_raw\n",
    "loans_data = risky_loans.append(safe_loans)\n",
    "\n",
    "print \"Percentage of safe loans                 :\", len(safe_loans) / float(len(loans_data))\n",
    "print \"Percentage of risky loans                :\", len(risky_loans) / float(len(loans_data))\n",
    "print \"Total number of loans in our new dataset :\", len(loans_data)"
   ]
  },
  {
   "cell_type": "markdown",
   "metadata": {},
   "source": [
    "**Note**: There are many approaches for dealing with imbalanced data, including some where we modify the learning algorithm. These approaches are beyond the scope of this course, but some of them are reviewed in this [paper](https://eventing.coursera.org/api/redirectStrict/Xt6PeI3GGkI3pmWJ6ICFisVvEef9aG4AKmLIJN5sUl6zrThnuf4mt-7jBlFtPBfmDdraeHyuuKSnHY7VA-Bjyg.IXERnS_zR3SQj9nDYzenoA.g2k_ttpVtCGzLDVA2C1slEYp8Q3cC0hp67Gb8gd-lRJcDNRPmNjYrsCEsInMZ39I-xHz2jQNt2xDNRhDQWFGOtDjeqOzv6gLELOLTeYKanAuvPnzrMfBDjijUiR8QmxW1bJnUObMH6x5aXPyqKBDEtF1ToPLJq4U2-MEfXlY-KPwTWmqeiYi7wMAlwVDBGjKlTX6ACGoRjQcPcEpLOXWW5pliJCq42s61Yo4cQr4WCiTOtEjTwDQI1sGkKJgfUpThsMlI4EBkpoy55_XFYVzlT6g4wiYVydXg9EtnD_dYEg4DZKj36aUXRF_zJEcwPN9MEysF7i7yU77ckziV6hKOLTXWLl1nRo4Ciazv1iK__LPrr4j26dufbjIElbL-PVVy3tsr2rSo8KHv1MuIQPCap9PFrLzLaLywpYR-5Dgiif9Sfmbdwi-St3bqXk6llQPEsJO8ishrSFbCtz5-r0WGUK5NYNAmSVrg2-JYXJ3IkJT1PXMAdXhG3slMBC4MwMDDvmY7tbVviOf1L0v5x8iqER8hIUFWc0PuTHwbg5Kw0mDeP_AW5ck9ZLcMX2EZ4fPAOgY3pQDc87Ytr92Lg1vzDttdAur6ZO5-pTD8a1SnIbrGlnlSJxpBuqGUMcgdPwt). For this assignment, we use the simplest possible approach, where we subsample the overly represented class to get a more balanced dataset. In general, and especially when the data is highly imbalanced, we recommend using more advanced methods."
   ]
  },
  {
   "cell_type": "markdown",
   "metadata": {},
   "source": [
    "## Transform categorical data into binary features\n",
    "\n",
    "Just like the previous assignment, we will implement **binary decision trees**. Since all of our features are currently categorical features, we want to turn them into binary features. Here is a reminder of what one-hot encoding is.\n",
    "\n",
    "For instance, the **home_ownership** feature represents the home ownership status of the loanee, which is either own, mortgage or rent. For example, if a data point has the feature"
   ]
  },
  {
   "cell_type": "code",
   "execution_count": null,
   "metadata": {
    "collapsed": false
   },
   "outputs": [],
   "source": [
    "{'home_ownership': 'RENT'}"
   ]
  },
  {
   "cell_type": "markdown",
   "metadata": {},
   "source": [
    "we want to turn this into three features:"
   ]
  },
  {
   "cell_type": "code",
   "execution_count": null,
   "metadata": {
    "collapsed": false
   },
   "outputs": [],
   "source": [
    "{ \n",
    "   'home_ownership = OWN'      : 0, \n",
    "   'home_ownership = MORTGAGE' : 0, \n",
    "   'home_ownership = RENT'     : 1\n",
    " }"
   ]
  },
  {
   "cell_type": "markdown",
   "metadata": {},
   "source": [
    "This technique of turning categorical variables into binary variables is called one-hot encoding. Using the software of your choice, perform one-hot encoding on the four features described above. You should now have 25 binary features."
   ]
  },
  {
   "cell_type": "code",
   "execution_count": null,
   "metadata": {
    "collapsed": false
   },
   "outputs": [],
   "source": [
    "# Perform one-hot encoding inplace\n",
    "def one_hot_encoding(data_set):\n",
    "    categorical_variables = []\n",
    "    for feat_name, feat_type in zip(data_set.column_names(), data_set.column_types()):\n",
    "        if feat_type == str:\n",
    "            categorical_variables.append(feat_name)\n",
    "\n",
    "    for feature in categorical_variables:\n",
    "        data_one_hot_encoded = data_set[feature].apply(lambda x: {x: 1})\n",
    "        data_unpacked = data_one_hot_encoded.unpack(column_name_prefix=feature)\n",
    "\n",
    "        # Change None's to 0's\n",
    "        for column in data_unpacked.column_names():\n",
    "            data_unpacked[column] = data_unpacked[column].fillna(0)\n",
    "\n",
    "        data_set.remove_column(feature)\n",
    "        data_set.add_columns(data_unpacked)\n",
    "    \n",
    "    return data_set\n",
    "\n",
    "loans_data = risky_loans.append(safe_loans)\n",
    "loans_data = one_hot_encoding(loans_data)\n",
    "\n",
    "features = loans_data.column_names()\n",
    "features.remove(target)\n",
    "print features"
   ]
  },
  {
   "cell_type": "markdown",
   "metadata": {},
   "source": [
    "## Train-validation split\n",
    "\n",
    "Split the data into a train-validation split with 80% of the data in the training set and 20% of the data in the validation set. Call these datasets **train_data** and **validation_data**, respectively. Using SFrame, this would look like:"
   ]
  },
  {
   "cell_type": "code",
   "execution_count": null,
   "metadata": {
    "collapsed": true
   },
   "outputs": [],
   "source": [
    "train_data, validation_data = loans_data.random_split(.8, seed=1)"
   ]
  },
  {
   "cell_type": "markdown",
   "metadata": {},
   "source": [
    "## Early stopping methods for decision trees\n",
    "\n",
    "In this section, we will extend the **binary tree implementation** from the previous assignment in order to handle some early stopping conditions. Recall the 3 early stopping methods that were discussed in lecture:\n",
    "\n",
    "1. Reached a **maximum depth**. (set by parameter max_depth).\n",
    "2. Reached a **minimum node size**. (set by parameter min_node_size).\n",
    "3. Don't split if the **gain in error reduction** is too small. (set by parameter min_error_reduction).\n",
    "\n",
    "For the rest of this assignment, we will refer to these three as **early stopping conditions 1, 2, and 3**."
   ]
  },
  {
   "cell_type": "markdown",
   "metadata": {},
   "source": [
    "### Early stopping condition 1: Maximum depth\n",
    "\n",
    "Recall that we already implemented the maximum depth stopping condition in the previous assignment. In this assignment, we will experiment with this condition a bit more and also write code to implement the 2nd and 3rd early stopping conditions.\n",
    "\n",
    "We will be reusing code from the previous assignment and then building upon this. We will **alert you** when you reach a function that was part of the previous assignment so that you can simply copy and past your previous code."
   ]
  },
  {
   "cell_type": "code",
   "execution_count": null,
   "metadata": {
    "collapsed": true
   },
   "outputs": [],
   "source": []
  },
  {
   "cell_type": "markdown",
   "metadata": {},
   "source": [
    "### Early stopping condition 2: Minimum node size\n",
    "\n",
    "The function *reached_minimum_node_size* takes 2 arguments:\n",
    "\n",
    "- The data (from a node)\n",
    "- The minimum number of data points that a node is allowed to split on, *min_node_size*.\n",
    "\n",
    "This function simply calculates whether the number of data points at a given node is less than or equal to the specified minimum node size. This function will be used to detect this early stopping condition in the *decision_tree_create* function. Your code should be analogous to"
   ]
  },
  {
   "cell_type": "code",
   "execution_count": null,
   "metadata": {
    "collapsed": true
   },
   "outputs": [],
   "source": [
    "def reached_minimum_node_size(data, min_node_size):\n",
    "    # Return True if the number of data points is less than or equal to the minimum node size.\n",
    "    return len(data) <= min_node_size"
   ]
  },
  {
   "cell_type": "markdown",
   "metadata": {},
   "source": [
    "**Quiz question**: Given an intermediate node with 6 safe loans and 3 risky loans, if the **min_node_size** parameter is 10, what should the tree learning algorithm do next?"
   ]
  },
  {
   "cell_type": "markdown",
   "metadata": {},
   "source": [
    "### Early stopping condition 3: Minimum gain in error reduction\n",
    "\n",
    "The function *error_reduction* takes 2 arguments:\n",
    "\n",
    "- The error before a split, *error_before_split*.\n",
    "- The error after a split, *error_after_split*.\n",
    "\n",
    "This function computes the gain in error reduction, i.e., the difference between the error before the split and that after the split. This function will be used to detect this early stopping condition in the **decision_tree_create** function. Your code should be analogous to"
   ]
  },
  {
   "cell_type": "code",
   "execution_count": null,
   "metadata": {
    "collapsed": false
   },
   "outputs": [],
   "source": [
    "def error_reduction(error_before_split, error_after_split):\n",
    "    # Return the error before the split minus the error after the split.\n",
    "    ## YOUR CODE HERE\n",
    "    return error_before_split - error_after_split"
   ]
  },
  {
   "cell_type": "markdown",
   "metadata": {},
   "source": [
    "**Quiz question**: Assume an intermediate node has 6 safe loans and 3 risky loans. For each of 4 possible features to split on, the error reduction is 0.0, 0.05, 0.1, and 0.14, respectively. If the **minimum gain in error reduction** parameter is set to 0.2, what should the tree learning algorithm do next?"
   ]
  },
  {
   "cell_type": "markdown",
   "metadata": {},
   "source": [
    "### Grabbing binary decision tree helper functions from past assignment\n",
    "\n",
    "Recall from the previous assignment that we wrote a function **intermediate_node_num_mistakes** that calculates the number of **misclassified examples** when predicting the **majority class**. This is used to help determine which feature is best to split on at a given node of the tree. **Use your code from the previous assignment**. It should be analogous to"
   ]
  },
  {
   "cell_type": "code",
   "execution_count": null,
   "metadata": {
    "collapsed": true
   },
   "outputs": [],
   "source": [
    "def intermediate_node_num_mistakes(labels_in_node):\n",
    "    # Corner case: If labels_in_node is empty, return 0\n",
    "    if len(labels_in_node) == 0:\n",
    "        return 0    \n",
    "    # Count the number of 1's (safe loans)\n",
    "    safe_count = len(labels_in_node[labels_in_node==1])\n",
    "    \n",
    "    # Count the number of -1's (risky loans)\n",
    "    risky_count = len(labels_in_node[labels_in_node==-1])\n",
    "\n",
    "    # Return the number of mistakes that the majority classifier makes.\n",
    "    if safe_count > risky_count:\n",
    "        return risky_count\n",
    "    else:\n",
    "        return safe_count"
   ]
  },
  {
   "cell_type": "markdown",
   "metadata": {},
   "source": [
    "We then wrote a function **best_splitting_feature** that finds the best feature to split on given the data and a list of features to consider. **Use your code from the previous assignment**. It should be analogous to"
   ]
  },
  {
   "cell_type": "code",
   "execution_count": null,
   "metadata": {
    "collapsed": false
   },
   "outputs": [],
   "source": [
    "def best_splitting_feature(data, features, target):\n",
    "    \n",
    "    target_values = data[target]\n",
    "    best_feature = None # Keep track of the best feature \n",
    "    best_error = 10     # Keep track of the best error so far \n",
    "    # Note: Since error is always <= 1, we should intialize it with something larger than 1.\n",
    "\n",
    "    # Convert to float to make sure error gets computed correctly.\n",
    "    num_data_points = float(len(data))  \n",
    "    \n",
    "    # Loop through each feature to consider splitting on that feature\n",
    "    for feature in features:\n",
    "        \n",
    "        # The left split will have all data points where the feature value is 0\n",
    "        left_split = data[data[feature] == 0]\n",
    "        \n",
    "        # The right split will have all data points where the feature value is 1\n",
    "        ## YOUR CODE HERE\n",
    "        right_split = data[data[feature] == 1]\n",
    "            \n",
    "        # Calculate the number of misclassified examples in the left split.\n",
    "        # Remember that we implemented a function for this! (It was called intermediate_node_num_mistakes)\n",
    "        # YOUR CODE HERE\n",
    "        left_mistakes = intermediate_node_num_mistakes(left_split[target])\n",
    "\n",
    "        # Calculate the number of misclassified examples in the right split.\n",
    "        ## YOUR CODE HERE\n",
    "        right_mistakes = intermediate_node_num_mistakes(right_split[target])\n",
    "            \n",
    "        # Compute the classification error of this split.\n",
    "        # Error = (# of mistakes (left) + # of mistakes (right)) / (# of data points)\n",
    "        ## YOUR CODE HERE\n",
    "        error = (left_mistakes + right_mistakes)/num_data_points\n",
    "\n",
    "        # If this is the best error we have found so far, store the feature as best_feature and the error as best_error\n",
    "        ## YOUR CODE HERE\n",
    "        if error < best_error:\n",
    "            best_error = error\n",
    "            best_feature = feature\n",
    "    \n",
    "    return best_feature # Return the best feature we found"
   ]
  },
  {
   "cell_type": "markdown",
   "metadata": {},
   "source": [
    "Finally, recall the function **create_leaf** from the previous assignment, which creates a leaf node given a set of target values. **Use your code from the previous assignment**. It should be analogous to"
   ]
  },
  {
   "cell_type": "code",
   "execution_count": null,
   "metadata": {
    "collapsed": false
   },
   "outputs": [],
   "source": [
    "def create_leaf(target_values):\n",
    "    \n",
    "    # Create a leaf node\n",
    "    leaf = {'splitting_feature' : None,\n",
    "            'left' : None,\n",
    "            'right' : None,\n",
    "            'is_leaf':  True   }   ## YOUR CODE HERE\n",
    "    \n",
    "    # Count the number of data points that are +1 and -1 in this node.\n",
    "    num_ones = len(target_values[target_values == +1])\n",
    "    num_minus_ones = len(target_values[target_values == -1])\n",
    "    \n",
    "    # For the leaf node, set the prediction to be the majority class.\n",
    "    # Store the predicted class (1 or -1) in leaf['prediction']\n",
    "    if num_ones > num_minus_ones:\n",
    "        leaf['prediction'] =   1       ## YOUR CODE HERE\n",
    "    else:\n",
    "        leaf['prediction'] =   -1       ## YOUR CODE HERE\n",
    "        \n",
    "    # Return the leaf node        \n",
    "    return leaf "
   ]
  },
  {
   "cell_type": "markdown",
   "metadata": {},
   "source": [
    "### Incorporating new early stopping conditions in binary decision tree implementation\n",
    "\n",
    "Now, you will implement a function that builds a decision tree handling the three early stopping conditions described in this assignment. In particular, you will write code to detect early stopping conditions 2 and 3. You implemented above the functions needed to detect these conditions. The 1st early stopping condition, **max_depth**, was implemented in the previous assignment and you will not need to reimplement this. In addition to these early stopping conditions, the typical stopping conditions of having no mistakes or no more features to split on (which we denote by \"stopping conditions\" 1 and 2) are also included as in the previous assignment."
   ]
  },
  {
   "cell_type": "markdown",
   "metadata": {},
   "source": [
    "**Implementing early stopping condition 2: minimum node size: **\n",
    "\n",
    "- **Step 1:** Use the function **reached_minimum_node_size** that you implemented earlier to write an if condition to detect whether we have hit the base case, i.e., the node does not have enough data points and should be turned into a leaf. Don't forget to use the min_node_size argument.\n",
    "- **Step 2:** Return a leaf. This line of code should be the same as the other (pre-implemented) stopping conditions.\n",
    "\n",
    "**Implementing early stopping condition 3: minimum error reduction:**\n",
    "\n",
    "**Note:** This has to come after finding the best splitting feature so we can calculate the error after splitting in order to calculate the error reduction. Recall that classification error is defined as:\n",
    "\n",
    "$$\n",
    "\\text {classification error} = \\frac {\\text {#mistakes}}{\\text {#total examples}}\n",
    "$$\n",
    "\n",
    "- **Step 1:** Calculate the **classification error before splitting**.\n",
    "- **Step 2:** Calculate the **classification error after splitting**. This requires calculating the number of mistakes in the left and right splits, and then dividing by the total number of examples.\n",
    "- **Step 3:** Use the function **error_reduction** to that you implemented earlier to write an if condition to detect whether the reduction in error is less than the constant provided (**min_error_reduction**). Don't forget to use that argument.\n",
    "- **Step 4:** Return a leaf. This line of code should be the same as the other (pre-implemented) stopping conditions."
   ]
  },
  {
   "cell_type": "code",
   "execution_count": null,
   "metadata": {
    "collapsed": true
   },
   "outputs": [],
   "source": [
    "def decision_tree_create(data, features, target, current_depth = 0, \n",
    "                         max_depth = 10, min_node_size=1, \n",
    "                         min_error_reduction=0.0):\n",
    "    \n",
    "    remaining_features = features[:] # Make a copy of the features.\n",
    "    \n",
    "    target_values = data[target]\n",
    "    print \"--------------------------------------------------------------------\"\n",
    "    print \"Subtree, depth = %s (%s data points).\" % (current_depth, len(target_values))\n",
    "    \n",
    "    if intermediate_node_num_mistakes(target_values) == 0:\n",
    "        print \"Stopping condition 1 reached. All data points have the same target value.\"                \n",
    "        return create_leaf(target_values)\n",
    "    \n",
    "    # Stopping condition 2: No more features to split on.\n",
    "    if remaining_features == []:\n",
    "        print \"Stopping condition 2 reached. No remaining features.\"                \n",
    "        return create_leaf(target_values)    \n",
    "    \n",
    "    # Early stopping condition 1: Reached max depth limit.\n",
    "    if current_depth >= max_depth:\n",
    "        print \"Early stopping condition 1 reached. Reached maximum depth.\"\n",
    "        return create_leaf(target_values)\n",
    "    \n",
    "    # Early stopping condition 2: Reached the minimum node size.\n",
    "    # If the number of data points is less than or equal to the minimum size, return a leaf.\n",
    "    if reached_minimum_node_size(target_values, min_node_size):       ## YOUR CODE HERE \n",
    "        print \"Early stopping condition 2 reached. Reached minimum node size.\"\n",
    "        return create_leaf(target_values) ## YOUR CODE HERE\n",
    "    \n",
    "    # Find the best splitting feature\n",
    "    splitting_feature = best_splitting_feature(data, features, target)\n",
    "    \n",
    "    # Split on the best feature that we found. \n",
    "    left_split = data[data[splitting_feature] == 0]\n",
    "    right_split = data[data[splitting_feature] == 1]\n",
    "    \n",
    "    # Early stopping condition 3: Minimum error reduction\n",
    "    # Calculate the error before splitting (number of misclassified examples \n",
    "    # divided by the total number of examples)\n",
    "    error_before_split = intermediate_node_num_mistakes(target_values) / float(len(data))\n",
    "    \n",
    "    # Calculate the error after splitting (number of misclassified examples \n",
    "    # in both groups divided by the total number of examples)\n",
    "    left_mistakes = intermediate_node_num_mistakes(left_split[target])   ## YOUR CODE HERE\n",
    "    right_mistakes = intermediate_node_num_mistakes(right_split[target])  ## YOUR CODE HERE\n",
    "    error_after_split = (left_mistakes + right_mistakes) / float(len(data))\n",
    "    \n",
    "    # If the error reduction is LESS THAN OR EQUAL TO min_error_reduction, return a leaf.\n",
    "    if  error_reduction(error_before_split, error_after_split) <= min_error_reduction: ## YOUR CODE HERE\n",
    "        print \"Early stopping condition 3 reached. Minimum error reduction.\"\n",
    "        return create_leaf(target_values)  ## YOUR CODE HERE \n",
    "    \n",
    "    \n",
    "    remaining_features.remove(splitting_feature)\n",
    "    print \"Split on feature %s. (%s, %s)\" % (\\\n",
    "                      splitting_feature, len(left_split), len(right_split))\n",
    "    \n",
    "    \n",
    "    # Repeat (recurse) on left and right subtrees\n",
    "    left_tree = decision_tree_create(left_split, remaining_features, target, \n",
    "                                     current_depth + 1, max_depth, min_node_size, min_error_reduction)        \n",
    "    \n",
    "    ## YOUR CODE HERE\n",
    "    right_tree = decision_tree_create(right_split, remaining_features, target,\n",
    "                                     current_depth + 1, max_depth, min_node_size, min_error_reduction)\n",
    "    \n",
    "    \n",
    "    return {'is_leaf'          : False, \n",
    "            'prediction'       : None,\n",
    "            'splitting_feature': splitting_feature,\n",
    "            'left'             : left_tree, \n",
    "            'right'            : right_tree}"
   ]
  },
  {
   "cell_type": "markdown",
   "metadata": {},
   "source": [
    "## Build a tree!\n",
    "\n",
    "Now that your code is working, train a tree model on the **train_data** with\n",
    "\n",
    "- max_depth = 6\n",
    "- min_node_size = 100,\n",
    "- min_error_reduction = 0.0\n",
    "\n",
    "Warning: This code block may take a minute to learn. Call this model **my_decision_tree_new**. Your code should be analogous to"
   ]
  },
  {
   "cell_type": "code",
   "execution_count": null,
   "metadata": {
    "collapsed": false
   },
   "outputs": [],
   "source": [
    "my_decision_tree_new = decision_tree_create(train_data, features, 'safe_loans', max_depth = 6, \n",
    "                                min_node_size = 100, min_error_reduction=0.0)"
   ]
  },
  {
   "cell_type": "markdown",
   "metadata": {},
   "source": [
    "Let's now train a tree model **ignoring early stopping conditions 2 and 3** so that we get the same tree as in the previous assignment. To ignore these conditions, we set **min_node_size=0** and **min_error_reduction=-1** (a negative value). \n",
    "\n",
    "Call this model **my_decision_tree_old**. Your code should be analogous to"
   ]
  },
  {
   "cell_type": "code",
   "execution_count": null,
   "metadata": {
    "collapsed": false
   },
   "outputs": [],
   "source": [
    "my_decision_tree_old = decision_tree_create(train_data, features, 'safe_loans', max_depth = 6,    \n",
    "                                            min_node_size = 0, min_error_reduction=-1)"
   ]
  },
  {
   "cell_type": "markdown",
   "metadata": {},
   "source": [
    "# Making predictions\n",
    "\n",
    "Recall that in the previous assignment you implemented a function **classify** to classify a new point x using a given tree. We will need that function here. **Use your code from the previous assignment**. It should be analogous to"
   ]
  },
  {
   "cell_type": "code",
   "execution_count": null,
   "metadata": {
    "collapsed": false
   },
   "outputs": [],
   "source": [
    "def classify(tree, x, annotate = False):\n",
    "       # if the node is a leaf node.\n",
    "    if tree['is_leaf']:\n",
    "        if annotate:\n",
    "             print \"At leaf, predicting %s\" % tree['prediction']\n",
    "        return tree['prediction']\n",
    "    else:\n",
    "        # split on feature.\n",
    "        split_feature_value = x[tree['splitting_feature']]\n",
    "        if annotate:\n",
    "             print \"Split on %s = %s\" % (tree['splitting_feature'], split_feature_value)\n",
    "        if split_feature_value == 0:\n",
    "            return classify(tree['left'], x, annotate)\n",
    "        else:\n",
    "            return classify(tree['right'], x, annotate)   ### YOUR CODE HERE"
   ]
  },
  {
   "cell_type": "markdown",
   "metadata": {},
   "source": [
    "Now, let's consider the first example of the validation set and see what the **my_decision_tree_new** model predicts for this data point. Your code should be analogous to\n",
    "\n"
   ]
  },
  {
   "cell_type": "code",
   "execution_count": null,
   "metadata": {
    "collapsed": false
   },
   "outputs": [],
   "source": [
    "print validation_data[0]\n",
    "print 'Predicted class: %s ' % classify(my_decision_tree_new, validation_data[0])"
   ]
  },
  {
   "cell_type": "markdown",
   "metadata": {},
   "source": [
    "Let's add some annotations to our prediction to see what the prediction path was that lead to this predicted class:"
   ]
  },
  {
   "cell_type": "code",
   "execution_count": null,
   "metadata": {
    "collapsed": false
   },
   "outputs": [],
   "source": [
    "classify(my_decision_tree_new, validation_data[0], annotate = True)"
   ]
  },
  {
   "cell_type": "markdown",
   "metadata": {},
   "source": [
    "Let's now recall the prediction path for the decision tree learned in the previous assignment, which we recreated here as my_decision_tree_old."
   ]
  },
  {
   "cell_type": "code",
   "execution_count": null,
   "metadata": {
    "collapsed": false
   },
   "outputs": [],
   "source": [
    "classify(my_decision_tree_old, validation_data[0], annotate = True)"
   ]
  },
  {
   "cell_type": "markdown",
   "metadata": {},
   "source": [
    "**Quiz question**: For **my_decision_tree_new** trained with *max_depth = 6, min_node_size = 100, min_error_reduction=0.0*, is the prediction path for validation_set[0] shorter, longer, or the same as for **my_decision_tree_old** that ignored the early stopping conditions 2 and 3?\n",
    "\n",
    "**Quiz question**: For **my_decision_tree_new** trained with *max_depth = 6, min_node_size = 100, min_error_reduction=0.0*, is the prediction path for any point always shorter, always longer, always the same, shorter or the same, or longer or the same as for **my_decision_tree_old** that ignored the early stopping conditions 2 and 3?\n",
    "\n",
    "**Quiz question**: For a tree trained on any dataset using *max_depth = 6, min_node_size = 100, min_error_reduction=0.0*, what is the maximum number of splits encountered while making a single prediction?"
   ]
  },
  {
   "cell_type": "markdown",
   "metadata": {},
   "source": [
    "## Evaluating the model\n",
    "\n",
    "Now let us evaluate the model that we have trained. You implemented this evaluation in the function evaluate_classification_error from the previous assignment. Use your code from the previous assignment. It should be analogous to"
   ]
  },
  {
   "cell_type": "code",
   "execution_count": null,
   "metadata": {
    "collapsed": true
   },
   "outputs": [],
   "source": [
    "def evaluate_classification_error(tree, data):\n",
    "    # Apply the classify(tree, x) to each row in your data\n",
    "    prediction = data.apply(lambda x: classify(tree, x))\n",
    "    \n",
    "    # Once you've made the predictions, calculate the classification error and return it\n",
    "    ## YOUR CODE HERE\n",
    "    mistakes = float(sum(prediction != data[target]))\n",
    "    return mistakes/len(data)"
   ]
  },
  {
   "cell_type": "markdown",
   "metadata": {},
   "source": [
    "Now, let's use this function to evaluate the classification error of **my_decision_tree_new** on the **validation_set**."
   ]
  },
  {
   "cell_type": "code",
   "execution_count": null,
   "metadata": {
    "collapsed": false
   },
   "outputs": [],
   "source": [
    "evaluate_classification_error(my_decision_tree_new, validation_data)"
   ]
  },
  {
   "cell_type": "markdown",
   "metadata": {},
   "source": [
    "Now, evaluate the validation error using **my_decision_tree_old**."
   ]
  },
  {
   "cell_type": "code",
   "execution_count": null,
   "metadata": {
    "collapsed": false
   },
   "outputs": [],
   "source": [
    "evaluate_classification_error(my_decision_tree_old, validation_data)"
   ]
  },
  {
   "cell_type": "markdown",
   "metadata": {},
   "source": [
    "**Quiz question**: Is the validation error of the new decision tree (using early stopping conditions 2 and 3) lower than, higher than, or the same as that of the old decision tree from the previous assignment?"
   ]
  },
  {
   "cell_type": "markdown",
   "metadata": {},
   "source": [
    "## Exploring the effect of*max_depth*\n",
    "\n",
    "We will compare three models trained with different values of the stopping criterion. We intentionally picked models at the extreme ends (**too small, just right, and too large**).\n",
    "\n",
    "Train three models with these parameters:\n",
    "\n",
    "- model_1: max_depth = 2 (too small)\n",
    "- model_2: max_depth = 6 (just right)\n",
    "- model_3: max_depth = 14 (may be too large)\n",
    "\n",
    "For each of these three, set *min_node_size = 0* and *min_error_reduction = -1*. Make sure to call the models **model_1**, **model_2**, and **model_3**.\n",
    "\n",
    "**Note:** Each tree can take up to a few minutes to train. In particular, **model_3** will probably take the longest to train.\n",
    "\n"
   ]
  },
  {
   "cell_type": "code",
   "execution_count": null,
   "metadata": {
    "collapsed": false
   },
   "outputs": [],
   "source": [
    "model_1 = decision_tree_create(train_data, features, 'safe_loans', max_depth = 2, \n",
    "                                min_node_size = 0, min_error_reduction=-1)\n",
    "model_2 = decision_tree_create(train_data, features, 'safe_loans', max_depth = 6, \n",
    "                                min_node_size = 0, min_error_reduction=-1)\n",
    "model_3 = decision_tree_create(train_data, features, 'safe_loans', max_depth = 14, \n",
    "                                min_node_size = 0, min_error_reduction=-1)"
   ]
  },
  {
   "cell_type": "markdown",
   "metadata": {},
   "source": [
    "Let us evaluate the models on the train and validation data. Let us start by evaluating the classification error on the training data. "
   ]
  },
  {
   "cell_type": "code",
   "execution_count": null,
   "metadata": {
    "collapsed": false
   },
   "outputs": [],
   "source": [
    "print \"Training data, classification error (model 1):\", evaluate_classification_error(model_1, train_data)\n",
    "print \"Training data, classification error (model 2):\", evaluate_classification_error(model_2, train_data)\n",
    "print \"Training data, classification error (model 3):\", evaluate_classification_error(model_3, train_data)"
   ]
  },
  {
   "cell_type": "markdown",
   "metadata": {},
   "source": [
    "Now evaluate the classification error on the validation data.\n",
    "\n",
    "**Quiz Question**: Which tree has the smallest error on the validation data?\n",
    "\n",
    "**Quiz Question**: Does the tree with the smallest error in the training data also have the smallest error in the validation data?\n",
    "\n",
    "**Quiz Question**: Is it always true that the tree with the lowest classification error on the training set will result in the lowest classification error in the validation set?"
   ]
  },
  {
   "cell_type": "code",
   "execution_count": null,
   "metadata": {
    "collapsed": false
   },
   "outputs": [],
   "source": [
    "print \"Training data, classification error (model 1):\", evaluate_classification_error(model_1, validation_data)\n",
    "print \"Training data, classification error (model 2):\", evaluate_classification_error(model_2, validation_data)\n",
    "print \"Training data, classification error (model 3):\", evaluate_classification_error(model_3, validation_data)"
   ]
  },
  {
   "cell_type": "markdown",
   "metadata": {},
   "source": [
    "## Measuring the complexity of the tree\n",
    "\n",
    "Recall in the lecture that we talked about deeper trees being more complex. We will measure the complexity of the tree as\n",
    "\n",
    "$$\n",
    "\\text  {complexity(T) = number of leaves in the tree T}\n",
    "$$\n",
    "\n",
    "Here, we provide a function **count_leaves** that counts the number of leaves in a tree. Using this implementation, compute the number of nodes in model_1, model_2, and model_3. This code is in Python. If you are using another language, make sure your code is analogous to"
   ]
  },
  {
   "cell_type": "code",
   "execution_count": null,
   "metadata": {
    "collapsed": true
   },
   "outputs": [],
   "source": [
    "def count_leaves(tree):\n",
    "    if tree['is_leaf']:\n",
    "        return 1\n",
    "    return count_leaves(tree['left']) + count_leaves(tree['right'])"
   ]
  },
  {
   "cell_type": "markdown",
   "metadata": {},
   "source": [
    "Using the function **count_leaves**, compute the number of nodes in **model_1**, **model_2**, and **model_3**.\n",
    "\n",
    "**Quiz question**: Which tree has the largest complexity?\n",
    "\n",
    "**Quiz question**: Is it always true that the most complex tree will result in the lowest classification error in the validation_set?"
   ]
  },
  {
   "cell_type": "code",
   "execution_count": null,
   "metadata": {
    "collapsed": false
   },
   "outputs": [],
   "source": [
    "print \"model_1:\", count_leaves(model_1)\n",
    "print \"model_2:\", count_leaves(model_2)\n",
    "print \"model_3:\", count_leaves(model_3)"
   ]
  },
  {
   "cell_type": "markdown",
   "metadata": {},
   "source": [
    "## Exploring the effect of *min_error*\n",
    "\n",
    "We will compare three models trained with different values of the stopping criterion. We intentionally picked models at the extreme ends (**negative, just right, and too positive**).\n",
    "\n",
    "Train three models with these parameters:\n",
    "\n",
    "- model_4: min_error_reduction = -1 (ignoring this early stopping condition)\n",
    "- model_5: min_error_reduction = 0 (just right)\n",
    "- model_6: min_error_reduction = 5 (too positive)\n",
    "\n",
    "For each of these three, we set max_depth = 6, and min_node_size = 0. Make sure to call the models model_4, model_5, and model_6.\n",
    "\n",
    "Note: Each tree can take up to 30 seconds to train.\n",
    "\n",
    "Calculate the accuracy of each model (model_4, model_5, or model_6) on the validation set. Your code should be analogous to"
   ]
  },
  {
   "cell_type": "code",
   "execution_count": null,
   "metadata": {
    "collapsed": false
   },
   "outputs": [],
   "source": [
    "model_4 = decision_tree_create(train_data, features, 'safe_loans', max_depth = 6, \n",
    "                                min_node_size = 0, min_error_reduction=-1)\n",
    "model_5 = decision_tree_create(train_data, features, 'safe_loans', max_depth = 6, \n",
    "                                min_node_size = 0, min_error_reduction=0)\n",
    "model_6 = decision_tree_create(train_data, features, 'safe_loans', max_depth = 6, \n",
    "                                min_node_size = 0, min_error_reduction=5)"
   ]
  },
  {
   "cell_type": "code",
   "execution_count": null,
   "metadata": {
    "collapsed": false
   },
   "outputs": [],
   "source": [
    "print \"Validation data, classification error (model 4):\", evaluate_classification_error(model_4, validation_data)\n",
    "print \"Validation data, classification error (model 5):\", evaluate_classification_error(model_5, validation_data)\n",
    "print \"Validation data, classification error (model 6):\", evaluate_classification_error(model_6, validation_data)"
   ]
  },
  {
   "cell_type": "markdown",
   "metadata": {},
   "source": [
    "Using the **count_leaves** function, compute the number of leaves in each of each models in (model_4, model_5, and model_6).\n",
    "\n",
    "**Quiz Question**: Using the complexity definition above, which model (model_4, model_5, or model_6) has the largest complexity? Did this match your expectation?\n",
    "\n",
    "**Quiz Question**: model_4 and model_5 have similar classification error on the validation set but model_5 has lower complexity? Should you pick model_5 over model_4?"
   ]
  },
  {
   "cell_type": "code",
   "execution_count": null,
   "metadata": {
    "collapsed": false
   },
   "outputs": [],
   "source": [
    "print \"model_4:\", count_leaves(model_4)\n",
    "print \"model_5:\", count_leaves(model_5)\n",
    "print \"model_6:\", count_leaves(model_6)"
   ]
  },
  {
   "cell_type": "markdown",
   "metadata": {},
   "source": [
    "## Exploring the effect of *min_node_size*\n",
    "\n",
    "We will compare three models trained with different values of the stopping criterion. Again, intentionally picked models at the extreme ends (too small, just right, and just right).\n",
    "\n",
    "Train three models with these parameters:\n",
    "\n",
    "- model_7: min_node_size = 0 (too small)\n",
    "- model_8: min_node_size = 2000 (just right)\n",
    "- model_9: min_node_size = 50000 (too large)\n",
    "\n",
    "For each of these three, we set max_depth = 6, and min_error_reduction = -1. Make sure to call these models model_7, model_8, and model_9.\n",
    "\n",
    "Note: Each tree can take up to 30 seconds to train.\n",
    "\n",
    "Calculate the accuracy of each model (model_7, model_8, or model_9) on the validation set.\n",
    "\n",
    "Using the **count_leaves** function, compute the number of leaves in each of each models (model_7, model_8, and model_9).\n",
    "\n",
    "**Quiz Question**: Using the results obtained in this section, which model (model_7, model_8, or model_9) would you choose to use?"
   ]
  },
  {
   "cell_type": "code",
   "execution_count": null,
   "metadata": {
    "collapsed": false
   },
   "outputs": [],
   "source": [
    "model_7 = decision_tree_create(train_data, features, 'safe_loans', max_depth = 6, \n",
    "                                min_node_size = 0, min_error_reduction=-1)\n",
    "model_8 = decision_tree_create(train_data, features, 'safe_loans', max_depth = 6, \n",
    "                                min_node_size = 2000, min_error_reduction=-1)\n",
    "model_9 = decision_tree_create(train_data, features, 'safe_loans', max_depth = 6, \n",
    "                                min_node_size = 50000, min_error_reduction=-1)"
   ]
  },
  {
   "cell_type": "code",
   "execution_count": null,
   "metadata": {
    "collapsed": false
   },
   "outputs": [],
   "source": [
    "print \"model_7:\", count_leaves(model_7)\n",
    "print \"model_8:\", count_leaves(model_8)\n",
    "print \"model_9:\", count_leaves(model_9)"
   ]
  }
 ],
 "metadata": {
  "kernelspec": {
   "display_name": "Python 2",
   "language": "python",
   "name": "python2"
  },
  "language_info": {
   "codemirror_mode": {
    "name": "ipython",
    "version": 2
   },
   "file_extension": ".py",
   "mimetype": "text/x-python",
   "name": "python",
   "nbconvert_exporter": "python",
   "pygments_lexer": "ipython2",
   "version": "2.7.11"
  }
 },
 "nbformat": 4,
 "nbformat_minor": 0
}
