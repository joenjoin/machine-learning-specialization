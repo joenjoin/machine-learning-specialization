{
 "cells": [
  {
   "cell_type": "markdown",
   "metadata": {},
   "source": [
    "# Exploring Ensemble Methods\n",
    "\n",
    "## Load the Lending Club dataset"
   ]
  },
  {
   "cell_type": "code",
   "execution_count": null,
   "metadata": {
    "collapsed": false
   },
   "outputs": [],
   "source": [
    "import sframe\n",
    "loans = sframe.SFrame(\"lending-club-data.gl/\")"
   ]
  },
  {
   "cell_type": "markdown",
   "metadata": {},
   "source": [
    "## Exploring some features\n",
    "\n",
    "Let's quickly explore what the dataset looks like. First, print out the column names to see what features we have in this dataset. On SFrame, you can run this code:"
   ]
  },
  {
   "cell_type": "code",
   "execution_count": null,
   "metadata": {
    "collapsed": false
   },
   "outputs": [],
   "source": [
    "loans.column_names()"
   ]
  },
  {
   "cell_type": "markdown",
   "metadata": {},
   "source": [
    "Here, we should see that we have some feature columns that have to do with grade of the loan, annual income, home ownership status, etc.\n",
    "\n"
   ]
  },
  {
   "cell_type": "markdown",
   "metadata": {},
   "source": [
    "## Modifying the target column\n",
    "\n",
    "The target column (label column) of the dataset that we are interested in is called bad_loans. In this column 1means a risky (bad) loan 0 means a safe loan.\n",
    "\n",
    "In order to make this more intuitive and consistent with the lectures, we reassign the target to be:\n",
    "\n",
    "- +1 as a safe loan\n",
    "- -1 as a risky (bad) loan\n",
    "\n",
    "We put this in a new column called **safe_loans**."
   ]
  },
  {
   "cell_type": "code",
   "execution_count": null,
   "metadata": {
    "collapsed": true
   },
   "outputs": [],
   "source": [
    "# safe_loans =  1 => safe\n",
    "# safe_loans = -1 => risky\n",
    "loans['safe_loans'] = loans['bad_loans'].apply(lambda x : +1 if x==0 else -1)\n",
    "loans = loans.remove_column('bad_loans')"
   ]
  },
  {
   "cell_type": "markdown",
   "metadata": {},
   "source": [
    "## Selecting features\n",
    "\n",
    "In this assignment, we will be using a subset of features (categorical and numeric). The features we will be using are described in the code comments below. If you are a finance geek, the LendingClub website has a lot more details about these features.\n",
    "\n",
    "The features we will be using are described in the code comments below. Extract these feature columns and target column from the dataset. We will only use these features."
   ]
  },
  {
   "cell_type": "code",
   "execution_count": null,
   "metadata": {
    "collapsed": true
   },
   "outputs": [],
   "source": [
    "target = 'safe_loans'\n",
    "features = ['grade',                     # grade of the loan (categorical)\n",
    "            'sub_grade_num',             # sub-grade of the loan as a number from 0 to 1\n",
    "            'short_emp',                 # one year or less of employment\n",
    "            'emp_length_num',            # number of years of employment\n",
    "            'home_ownership',            # home_ownership status: own, mortgage or rent\n",
    "            'dti',                       # debt to income ratio\n",
    "            'purpose',                   # the purpose of the loan\n",
    "            'payment_inc_ratio',         # ratio of the monthly payment to income\n",
    "            'delinq_2yrs',               # number of delinquincies\n",
    "             'delinq_2yrs_zero',          # no delinquincies in last 2 years\n",
    "            'inq_last_6mths',            # number of creditor inquiries in last 6 months\n",
    "            'last_delinq_none',          # has borrower had a delinquincy\n",
    "            'last_major_derog_none',     # has borrower had 90 day or worse rating\n",
    "            'open_acc',                  # number of open credit accounts\n",
    "            'pub_rec',                   # number of derogatory public records\n",
    "            'pub_rec_zero',              # no derogatory public records\n",
    "            'revol_util',                # percent of available credit being used\n",
    "            'total_rec_late_fee',        # total late fees received to day\n",
    "            'int_rate',                  # interest rate of the loan\n",
    "            'total_rec_int',             # interest received to date\n",
    "            'annual_inc',                # annual income of borrower\n",
    "            'funded_amnt',               # amount committed to the loan\n",
    "            'funded_amnt_inv',           # amount committed by investors for the loan\n",
    "            'installment',               # monthly payment owed by the borrower\n",
    "           ]"
   ]
  },
  {
   "cell_type": "markdown",
   "metadata": {},
   "source": [
    "## Skipping observations with missing values\n",
    "\n",
    "Recall from the lectures that one common approach to coping with missing values is to skip observations that contain missing values."
   ]
  },
  {
   "cell_type": "code",
   "execution_count": null,
   "metadata": {
    "collapsed": false
   },
   "outputs": [],
   "source": [
    "loans, loans_with_na = loans[[target] + features].dropna_split()\n",
    "\n",
    "# Count the number of rows with missing data\n",
    "num_rows_with_na = loans_with_na.num_rows()\n",
    "num_rows = loans.num_rows()\n",
    "print 'Dropping %s observations; keeping %s ' % (num_rows_with_na, num_rows)"
   ]
  },
  {
   "cell_type": "markdown",
   "metadata": {},
   "source": [
    "In Pandas, we'd run"
   ]
  },
  {
   "cell_type": "code",
   "execution_count": null,
   "metadata": {
    "collapsed": true
   },
   "outputs": [],
   "source": [
    "# loans = loans[[target] + features].dropna()"
   ]
  },
  {
   "cell_type": "markdown",
   "metadata": {},
   "source": [
    "Fortunately, as you should find, there are not too many missing values. We are retaining most of the data.\n",
    "\n"
   ]
  },
  {
   "cell_type": "markdown",
   "metadata": {},
   "source": [
    "## Make sure the classes are balanced\n",
    "\n",
    "We saw in an earlier assignment that this dataset is also imbalanced. We will undersample the larger class (safe loans) in order to balance out our dataset. We used seed=1 to make sure everyone gets the same results."
   ]
  },
  {
   "cell_type": "code",
   "execution_count": null,
   "metadata": {
    "collapsed": false
   },
   "outputs": [],
   "source": [
    "safe_loans_raw = loans[loans[target] == 1]\n",
    "risky_loans_raw = loans[loans[target] == -1]\n",
    "\n",
    "# Undersample the safe loans.\n",
    "percentage = len(risky_loans_raw)/float(len(safe_loans_raw))\n",
    "safe_loans = safe_loans_raw.sample(percentage, seed = 1)\n",
    "risky_loans = risky_loans_raw\n",
    "loans_data = risky_loans.append(safe_loans)\n",
    "\n",
    "print \"Percentage of safe loans                 :\", len(safe_loans) / float(len(loans_data))\n",
    "print \"Percentage of risky loans                :\", len(risky_loans) / float(len(loans_data))\n",
    "print \"Total number of loans in our new dataset :\", len(loans_data)"
   ]
  },
  {
   "cell_type": "markdown",
   "metadata": {},
   "source": [
    "**Note**: There are many approaches for dealing with imbalanced data, including some where we modify the learning algorithm. These approaches are beyond the scope of this course, but some of them are reviewed in this paper. For this assignment, we use the simplest possible approach, where we subsample the overly represented class to get a more balanced dataset. In general, and especially when the data is highly imbalanced, we recommend using more advanced methods.\n",
    "\n",
    "## One-hot encoding\n",
    "\n",
    "For scikit-learn's decision tree implementation, it numerical values for it's data matrix. This means you will have to turn categorical variables into binary features via one-hot encoding.\n",
    "\n",
    "We've seen this same piece of code in earlier assignments. Again, feel free to use this piece of code as is. Refer to the API documentation for a deeper understanding."
   ]
  },
  {
   "cell_type": "code",
   "execution_count": null,
   "metadata": {
    "collapsed": false
   },
   "outputs": [],
   "source": [
    "loans_data = risky_loans.append(safe_loans)\n",
    "\n",
    "categorical_variables = []\n",
    "for feat_name, feat_type in zip(loans_data.column_names(), loans_data.column_types()):\n",
    "    if feat_type == str:\n",
    "        categorical_variables.append(feat_name)\n",
    "\n",
    "for feature in categorical_variables:\n",
    "    loans_data_one_hot_encoded = loans_data[feature].apply(lambda x: {x: 1})\n",
    "    loans_data_unpacked = loans_data_one_hot_encoded.unpack(column_name_prefix=feature)\n",
    "\n",
    "    # Change None's to 0's\n",
    "    for column in loans_data_unpacked.column_names():\n",
    "        loans_data_unpacked[column] = loans_data_unpacked[column].fillna(0)\n",
    "\n",
    "    loans_data.remove_column(feature)\n",
    "    loans_data.add_columns(loans_data_unpacked)\n",
    "\n",
    "loans_data.column_names()"
   ]
  },
  {
   "cell_type": "markdown",
   "metadata": {},
   "source": [
    "Note that the column names are slightly different now, since we used one-hot encoding."
   ]
  },
  {
   "cell_type": "markdown",
   "metadata": {},
   "source": [
    "## Split data into training and validation\n",
    "\n",
    "We split the data into training data and validation data. We used seed=1 to make sure everyone gets the same results. We will use the validation data to help us select model parameters."
   ]
  },
  {
   "cell_type": "code",
   "execution_count": null,
   "metadata": {
    "collapsed": true
   },
   "outputs": [],
   "source": [
    "train_data, validation_data = loans_data.random_split(.8, seed=1)"
   ]
  },
  {
   "cell_type": "markdown",
   "metadata": {},
   "source": [
    "Call the training and validation sets train_data and validation_data, respectively."
   ]
  },
  {
   "cell_type": "markdown",
   "metadata": {},
   "source": [
    "## Gradient boosted tree classifier\n",
    "\n",
    "Gradient boosted trees are a powerful variant of boosting methods; they have been used to win many Kaggle competitions, and have been widely used in industry. We will explore the predictive power of multiple decision trees as opposed to a single decision tree.\n",
    "\n",
    "Additional reading: If you are interested in gradient boosted trees, here is some additional reading material:\n",
    "- [GraphLab Create user guide](https://eventing.coursera.org/api/redirectStrict/i6d0jqbBaww79tKPFLIPcc1Wt-vFDlyMh1rgnUR2DMePozZAZ10-HsVngmn31_ivyh2Os1OYZM5nM_dzUEE60Q.R9dbDe4M7OA9DzrNR-Aa_g.YI4qjxYn8czZXR9UK2MrjrUQ5_ORDS3p54hxPwR7ic-erFepueaCtLqUB67LZ98cys2X3f2pqvPPgwv_867FRDIk98E1QY9RV4JemgGf_Hu47r4aipVKQ0OrNisVrfm-TCywN4cTXQLlGrS-rfBp_Qiup8gM6hRnmsNFFrYiU5frA6oKPn2uvhGTafK6NMjcKIzqI3JRfmdabipgKuvHzooyRqNodjbxPI8wurlz8Zk3W6PfdU1f61VZh9sXan5pLrFnC6T_cqW7SENdM4zGplAz03K5dxKKL_WHYhLY4OxJRuw_CeVcj3nnMrqA5osuCMGFTdyHhdM8R6orGLqlGIYSmFN5Z7-DO1K8b0JIYohIcEQejTT7tot9D5gWdeaABuOJYpi1QrpCGo5QKI8XRw_AYvdosXQk_wZTEE_vwJo7Hv1rM3fvwhZvRbK53dTL)\n",
    "- [Advanced material on boosted trees](https://eventing.coursera.org/api/redirectStrict/pdh48UUrPlpH1TnNZm8nk8WzQEFuvGhLzpxPQvqtz_ZPvz0hRr7nDKT804dU6xzwULedO2VCn41FXh_hzpIbSw.sdguCGSTxp85Lqzo7r9vBQ.3xeUkvN3ZW2XnVtgVdEepwsM4A-7yXmF-q98p6lCnnsUstsddWaO1Zl1_w76YrQ_dZRTjo0xii16cBqe6WTw9Tuqd5KtSq9Z4ir29HYk33wo0LHBXbAAw0swLtm0Ehc-0JiYMd0_6DaF5XfdGmaSfzCC0QvxCwKVyKxis-FK-Y6iSC41HCiNU4KIi3tZjRcI3mev1dLWFKmwI5fQtdolKlY2Pw2X1j6TNahAlMqXD8AFWtASFEp6EhxCH3c1KVOb4EG-_wlzxnmEnWjiITHdeSG1jnS83_5G-6SuR_k3fmtMtP0C6FGra0977xqtoR7mMCLQCCyE4K3BmZQMy2IGC1l3COeFoiUeKgPwty9ZUOhSjB7xmPqWQfFin-1JiVQJ)\n",
    "\n",
    "We will now train models to predict safe_loans using the features above. In this section, we will experiment with training an ensemble of 5 trees.\n",
    "\n",
    "Now, let's use the built-in scikit learn gradient boosting classifier (**sklearn.ensemble.GradientBoostingClassifier**) to create a gradient boosted classifier on the training data. You will need to import **sklearn, sklearn.ensemble**, and **numpy**.\n",
    "\n",
    "You will have to first convert the SFrame into a numpy data matrix. See the API for more information. You will also have to extract the label column. Make sure to set **max_depth=6** and **n_estimators=5**."
   ]
  },
  {
   "cell_type": "code",
   "execution_count": null,
   "metadata": {
    "collapsed": false
   },
   "outputs": [],
   "source": [
    "feature_names = train_data.column_names()\n",
    "feature_names.remove(target)\n",
    "\n",
    "target_values_train_data = train_data[target].to_numpy()\n",
    "feature_matrix_train_data = train_data[feature_names].to_numpy()\n",
    "\n",
    "target_values_validation_data = validation_data[target].to_numpy()\n",
    "feature_matrix_validation_data = validation_data[feature_names].to_numpy()"
   ]
  },
  {
   "cell_type": "code",
   "execution_count": null,
   "metadata": {
    "collapsed": false
   },
   "outputs": [],
   "source": [
    "from sklearn.ensemble import GradientBoostingClassifier\n",
    "import numpy as np\n",
    "\n",
    "model_5 = GradientBoostingClassifier(n_estimators=5, max_depth=6, random_state=0, verbose=1)\n",
    "model_5.fit(feature_matrix_train_data, target_values_train_data)"
   ]
  },
  {
   "cell_type": "code",
   "execution_count": null,
   "metadata": {
    "collapsed": false
   },
   "outputs": [],
   "source": [
    "from sklearn.cross_validation import cross_val_score\n",
    "# scores = cross_val_score(model_5, feature_matrix_validation_data, target_values_validation_data)\n",
    "model_5.score(feature_matrix_validation_data, target_values_validation_data)\n",
    "# print scores.mean()"
   ]
  },
  {
   "cell_type": "code",
   "execution_count": null,
   "metadata": {
    "collapsed": false
   },
   "outputs": [],
   "source": [
    "len(features)"
   ]
  },
  {
   "cell_type": "markdown",
   "metadata": {},
   "source": [
    "## Making predictions\n",
    "\n",
    "Just like we did in previous sections, let us consider a few positive and negative examples from the validation set. We will do the following:\n",
    "\n",
    "- Predict whether or not a loan is likely to default.\n",
    "- Predict the probability with which the loan is likely to default.\n",
    "\n",
    "First, let's grab 2 positive examples and 2 negative examples. In SFrame, that would be:"
   ]
  },
  {
   "cell_type": "code",
   "execution_count": null,
   "metadata": {
    "collapsed": false
   },
   "outputs": [],
   "source": [
    "# Select all positive and negative examples.\n",
    "validation_safe_loans = validation_data[validation_data[target] == 1]\n",
    "validation_risky_loans = validation_data[validation_data[target] == -1]\n",
    "\n",
    "# Select 2 examples from the validation set for positive & negative loans\n",
    "sample_validation_data_risky = validation_risky_loans[0:2]\n",
    "sample_validation_data_safe = validation_safe_loans[0:2]\n",
    "\n",
    "# Append the 4 examples into a single dataset\n",
    "sample_validation_data = sample_validation_data_safe.append(sample_validation_data_risky)\n",
    "sample_validation_data"
   ]
  },
  {
   "cell_type": "markdown",
   "metadata": {},
   "source": [
    "For each row in the **sample_validation_data**, write code to make **model_5** predict whether or not the loan is classified as a safe loan. (Hint: if you are using scikit-learn, you can use the **.predict()** method)\n",
    "\n",
    "**Quiz question**: What percentage of the predictions on **sample_validation_data** did **model_5** get correct?"
   ]
  },
  {
   "cell_type": "code",
   "execution_count": null,
   "metadata": {
    "collapsed": false
   },
   "outputs": [],
   "source": [
    "sample_validation_data_feature_matrix = sample_validation_data.select_columns(feature_names).to_numpy()\n",
    "model_5.predict(sample_validation_data_feature_matrix)"
   ]
  },
  {
   "cell_type": "code",
   "execution_count": null,
   "metadata": {
    "collapsed": false
   },
   "outputs": [],
   "source": [
    "sample_validation_data[target]"
   ]
  },
  {
   "cell_type": "code",
   "execution_count": null,
   "metadata": {
    "collapsed": false
   },
   "outputs": [],
   "source": [
    "model_5.predict_proba(sample_validation_data_feature_matrix)"
   ]
  },
  {
   "cell_type": "markdown",
   "metadata": {},
   "source": [
    "## Prediction Probabilities\n",
    "\n",
    "For each row in the **sample_validation_data**, what is the probability (according **model_5**) of a loan being classified as safe? (Hint: if you are using scikit-learn, you can use the **.predict_proba()** method)\n",
    "\n",
    "**Quiz Question**: Which loan has the highest probability of being classified as a safe loan?\n",
    "\n",
    "**Checkpoint**: Can you verify that for all the predictions with probability >= 0.5, the model predicted the label +1?\n",
    "\n"
   ]
  },
  {
   "cell_type": "code",
   "execution_count": null,
   "metadata": {
    "collapsed": false
   },
   "outputs": [],
   "source": [
    "print model_5.classes_\n",
    "model_5.predict_proba(sample_validation_data_feature_matrix)"
   ]
  },
  {
   "cell_type": "markdown",
   "metadata": {},
   "source": [
    "## Evaluating the model on the validation data\n",
    "\n",
    "Recall that the accuracy is defined as follows:\n",
    "$$\n",
    "\\text {accuracy} = \\frac {\\text {#correctly classified examples}} {\\text {#total examples}} \n",
    "$$"
   ]
  },
  {
   "cell_type": "markdown",
   "metadata": {},
   "source": [
    "Evaluate the accuracy of the **model_5** on the **validation_data**. (Hint: if you are using scikit-learn, you can use the **[.score()](https://eventing.coursera.org/api/redirectStrict/IHOFGurzt6TK1z0_WV2pxWuTCjU5VwFBvd0q1wkxmm3Bs_iE8IfJN1pDFf8l1_7o6axo8SAI9Kda3RSx2LaQQQ._zaZWxm5RgyZSW58_5n-Xw.B0ZvA8Vd5nLd5hhSrZtrcMHnCMnDj0qNV8IwSQieVjnCG27swBAUS0IrSwL6EYCFPBTB3p6ba0D7sqTuQgS56m_xmVKU8oDOZCPOtrDk3fO96WBkhM9Mm3X_JhAhOhOijE3cBRBrpxNckcgHRkA0NronxYkzo1KWDF9XyFJYkkxTrrgDk0wYbfEaVZNuhmyfkonxfeTtygS7_W3bT2bXaS8V3XYKW4VdOtZIaXGIffoXBUrkJ6VKlBt4qwGzmUyn5VYCEZ9wzqWShRpF0DqKKDuLo7BdRe-Iv1T6HBh1dG9hBOlFgDPAMQp9QoOgdugIzyyOzVwsZ96rbQHJgFDlj_3inFXrh4uAVFXbev2Ju1_huUJQNqD-lUz21IN2RAIfxVU9sKeBVFBI5njxFVd3yRIQM7BD-ivbAAZw3u3datqsx6Mc34ISjVfzES69bigifFkz94hVkP3LBM2732jC0YR4JlIxPSJQsFvYXZjaYNgN3Ecj6z1tTXeiqa7qSnOLkcx6uSsVZUm_3xg7S-FpZ9qOQbob6rGrmiX9-cTncDzJVssdxrYgYDbCwP4ZIIRuk9SHJtpih9U6qRjZiR6uuyQoRt25Tgq5rRjIUzmzY-0)** method)\n",
    "\n",
    "Calculate the number of false positives made by the model on the **validation_data**.\n",
    "\n",
    "**Quiz question**: What is the number of false positives on the **validation_data**?"
   ]
  },
  {
   "cell_type": "code",
   "execution_count": null,
   "metadata": {
    "collapsed": false
   },
   "outputs": [],
   "source": [
    "# sum(target_values_validation_data-model_5.predict(feature_matrix_validation_data) == 0)/float(len(validation_data))\n",
    "model_5.score(feature_matrix_validation_data, target_values_validation_data)"
   ]
  },
  {
   "cell_type": "code",
   "execution_count": null,
   "metadata": {
    "collapsed": false
   },
   "outputs": [],
   "source": [
    "model_5_mistakes = model_5.predict(feature_matrix_validation_data) - target_values_validation_data\n",
    "false_postives = sum(model_5_mistakes == 2)\n",
    "print \"False positives: \", false_postives"
   ]
  },
  {
   "cell_type": "markdown",
   "metadata": {},
   "source": [
    "Calculate the number of false negatives made by the model on the **validation_data**."
   ]
  },
  {
   "cell_type": "code",
   "execution_count": null,
   "metadata": {
    "collapsed": false
   },
   "outputs": [],
   "source": [
    "false_negatives = sum(model_5_mistakes == -2)\n",
    "print \"False negatives: \", false_negatives"
   ]
  },
  {
   "cell_type": "markdown",
   "metadata": {},
   "source": [
    "## Comparison with decision trees\n",
    "\n",
    "In the earlier assignment, we saw that the prediction accuracy of the decision trees was around 0.64. In this assignment, we saw that **model_5** has an accuracy of approximately 0.67.\n",
    "\n",
    "Here, we quantify the benefit of the extra 3% increase in accuracy of **model_5** in comparison with a single decision tree from the original decision tree assignment.\n",
    "\n",
    "As we explored in the earlier assignment, we calculated the cost of the mistakes made by the model. We again consider the same costs as follows:\n",
    "\n",
    "- False negatives: Assume a cost of $10,000 per false negative.\n",
    "- False positives: Assume a cost of $20,000 per false positive.\n",
    "\n",
    "Assume that the number of false positives and false negatives for the learned decision tree was\n",
    "\n",
    "- False negatives: 1936\n",
    "- False positives: 1503\n",
    "\n",
    "Using the costs defined above and the number of false positives and false negatives for the decision tree, we can calculate the total cost of the mistakes made by the decision tree model as follows:"
   ]
  },
  {
   "cell_type": "markdown",
   "metadata": {},
   "source": [
    "`cost = $10,000 * 1936  + $20,000 * 1503 = $49,420,000`"
   ]
  },
  {
   "cell_type": "markdown",
   "metadata": {},
   "source": [
    "The total cost of the mistakes of the model is $49.42M. That is a lot of money!.\n",
    "\n",
    "Calculate the cost of mistakes made by **model_5** on the **validation_data**.\n",
    "\n",
    "**Quiz Question**: Using the same costs of the false positives and false negatives, what is the cost of the mistakes made by the boosted tree model (**model_5**) as evaluated on the validation_set?\n",
    "\n",
    "**Reminder**: Compare the cost of the mistakes made by the boosted trees model with the decision tree model. The extra 3% improvement in prediction accuracy can translate to several million dollars! And, it was so easy to get by simply boosting our decision trees."
   ]
  },
  {
   "cell_type": "code",
   "execution_count": null,
   "metadata": {
    "collapsed": false
   },
   "outputs": [],
   "source": [
    "cost = 10000 * false_negatives + 20000*false_postives\n",
    "print \"Cost: \", cost"
   ]
  },
  {
   "cell_type": "markdown",
   "metadata": {},
   "source": [
    "## Most positive & negative loans.\n",
    "\n",
    "In this section, we will find the loans that are most likely to be predicted safe. We can do this in a few steps:\n",
    "\n",
    "- Step 1: Use the **model_5** (the model with 5 trees) and make probability predictions for all the loans in **validation_data**.\n",
    "- Step 2: Similar to what we did in the very first assignment, add the probability predictions as a column called **predictions** into **validation_data**.\n",
    "- Step 3: Sort the data (in descreasing order) by the probability predictions.\n",
    "\n",
    "Start here with Step 1 & Step 2. Make predictions using **model_5** for all examples in the validation_data.\n",
    "\n",
    "**Checkpoint**: For each row, the probabilities should be a number in the range [0, 1].\n",
    "\n",
    "Now, we are ready to go to Step 3. You can now use the prediction column to sort the loans in validation_data (in descending order) by prediction probability. Find the top 5 loans with the highest probability of being predicted as a safe loan.\n",
    "\n",
    "**Quiz question**: What grades are the top 5 loans?\n",
    "\n",
    "Repeat this exercise to find the 5 loans (in the validation_data) with the lowest probability of being predicted as a safe loan."
   ]
  },
  {
   "cell_type": "code",
   "execution_count": null,
   "metadata": {
    "collapsed": false
   },
   "outputs": [],
   "source": [
    "print model_5.classes_\n",
    "validation_data['predictions'] = model_5.predict_proba(feature_matrix_validation_data)[:,1]\n",
    "validation_data_sorted_by_predict_prob = validation_data.sort(['predictions'], ascending=False)\n",
    "\n",
    "# help(sframe.data_structures.sarray.SArray)\n",
    "# help(sframe.SFrame)"
   ]
  },
  {
   "cell_type": "code",
   "execution_count": null,
   "metadata": {
    "collapsed": false
   },
   "outputs": [],
   "source": [
    "validation_data_sorted_by_predict_prob.head(5)"
   ]
  },
  {
   "cell_type": "code",
   "execution_count": null,
   "metadata": {
    "collapsed": false
   },
   "outputs": [],
   "source": [
    "validation_data_sorted_by_predict_prob.tail(5)['predictions']"
   ]
  },
  {
   "cell_type": "markdown",
   "metadata": {},
   "source": [
    "## Effects of adding more trees\n",
    "\n",
    "In this assignment, we will train 5 different ensemble classifiers in the form of gradient boosted trees.\n",
    "\n",
    "Train models with 10, 50, 100, 200, and 500 trees. Use the **n_estimators** parameter to control the number of trees. Remember to keep **max_depth = 6**.\n",
    "\n",
    "Call these models **model_10**, **model_50**, **model_100**, **model_200**, and **model_500**, respectively. This may take a few minutes to run.\n",
    "\n",
    "\n",
    "\n"
   ]
  },
  {
   "cell_type": "code",
   "execution_count": null,
   "metadata": {
    "collapsed": false
   },
   "outputs": [],
   "source": [
    "model_10 = GradientBoostingClassifier(n_estimators=10, max_depth=6, verbose=1)\n",
    "model_50 = GradientBoostingClassifier(n_estimators=50, max_depth=6, verbose=1)\n",
    "model_100 = GradientBoostingClassifier(n_estimators=100, max_depth=6, verbose=1)\n",
    "model_200 = GradientBoostingClassifier(n_estimators=200, max_depth=6, verbose=1)\n",
    "model_500 = GradientBoostingClassifier(n_estimators=500, max_depth=6, verbose=1)\n",
    "\n",
    "model_10.fit(feature_matrix_train_data, target_values_train_data)\n",
    "model_50.fit(feature_matrix_train_data, target_values_train_data)\n",
    "model_100.fit(feature_matrix_train_data, target_values_train_data)\n",
    "model_200.fit(feature_matrix_train_data, target_values_train_data)\n",
    "model_500.fit(feature_matrix_train_data, target_values_train_data)"
   ]
  },
  {
   "cell_type": "markdown",
   "metadata": {},
   "source": [
    "## Compare accuracy on entire validation set\n",
    "\n",
    "Now we will compare the predicitve accuracy of our models on the validation set.\n",
    "\n",
    "Evaluate the accuracy of the 10, 50, 100, 200, and 500 tree models on the validation_data.\n",
    "\n",
    "**Quiz Question**: Which model has the best accuracy on the validation_data?\n",
    "\n",
    "**Quiz Question**: Is it always true that the model with the most trees will perform best on test data?\n",
    "\n"
   ]
  },
  {
   "cell_type": "code",
   "execution_count": null,
   "metadata": {
    "collapsed": false
   },
   "outputs": [],
   "source": [
    "accuracies_validation_data = [\n",
    "model_10.score(feature_matrix_validation_data, target_values_validation_data),\n",
    "model_50.score(feature_matrix_validation_data, target_values_validation_data),\n",
    "model_100.score(feature_matrix_validation_data, target_values_validation_data),\n",
    "model_200.score(feature_matrix_validation_data, target_values_validation_data),\n",
    "model_500.score(feature_matrix_validation_data, target_values_validation_data)\n",
    "]\n",
    "print accuracies_validation_data"
   ]
  },
  {
   "cell_type": "markdown",
   "metadata": {},
   "source": [
    "## Plot the training and validation error vs. number of trees\n",
    "\n",
    "Recall from the lecture that the classification error is defined as\n",
    "\n",
    "$$\n",
    "\\text {classification error = 1 - accuracy}\n",
    "$$\n",
    "\n",
    "In this section, we will plot the training and validation errors versus the number of trees to get a sense of how these models are performing. We will compare the 10, 50, 100, 200, and 500 tree models. You will need matplotlib in order to visualize the plots.\n",
    "\n",
    "First, make sure this block of code runs on your computer"
   ]
  },
  {
   "cell_type": "code",
   "execution_count": null,
   "metadata": {
    "collapsed": true
   },
   "outputs": [],
   "source": [
    "import matplotlib.pyplot as plt\n",
    "%matplotlib inline\n",
    "def make_figure(dim, title, xlabel, ylabel, legend):\n",
    "    plt.rcParams['figure.figsize'] = dim\n",
    "    plt.title(title)\n",
    "    plt.xlabel(xlabel)\n",
    "    plt.ylabel(ylabel)\n",
    "    if legend is not None:\n",
    "        plt.legend(loc=legend, prop={'size':15})\n",
    "    plt.rcParams.update({'font.size': 16})\n",
    "    plt.tight_layout()"
   ]
  },
  {
   "cell_type": "markdown",
   "metadata": {},
   "source": [
    "In order to plot the classification errors (on the **train_data** and **validation_data**) versus the number of trees, we will need lists of all the errors.\n",
    "\n",
    "Steps to follow:\n",
    "\n",
    "- Step 1: Calculate the classification error for each model on the training data (**train_data**).\n",
    "- Step 2: Store the training errors into a list (called **training_errors**) that looks like this: [train_err_10, train_err_50, ..., train_err_500]\n",
    "- Step 3: Calculate the classification error of each model on the validation data (**validation_data**).\n",
    "- Step 4: Store the validation classification error into a list (called **validation_errors**) that looks like this:[validation_err_10, validation_err_50, ..., validation_err_500]\n",
    "\n",
    "Once that has been completed, we will give code that should be able to evaluate correctly and generate the plot.\n",
    "\n",
    "Let us start with Step 1. Write code to compute the classification error on the train_data for models model_10, model_50, model_100, model_200, and model_500.\n",
    "\n",
    "Now, let us run Step 2. Save the training errors into a list called **training_errors**."
   ]
  },
  {
   "cell_type": "code",
   "execution_count": null,
   "metadata": {
    "collapsed": false
   },
   "outputs": [],
   "source": [
    "accuracies_train_data = [model_10.score(feature_matrix_train_data, target_values_train_data),\n",
    "model_50.score(feature_matrix_train_data, target_values_train_data),\n",
    "model_100.score(feature_matrix_train_data, target_values_train_data),\n",
    "model_200.score(feature_matrix_train_data, target_values_train_data),\n",
    "model_500.score(feature_matrix_train_data, target_values_train_data)\n",
    "]"
   ]
  },
  {
   "cell_type": "code",
   "execution_count": null,
   "metadata": {
    "collapsed": false
   },
   "outputs": [],
   "source": [
    "training_errors = [1-i for i in accuracies_train_data]"
   ]
  },
  {
   "cell_type": "markdown",
   "metadata": {},
   "source": [
    "Now, onto Step 3. Write code to compute the classification error on the **validation_data** for models model_10, model_50, model_100, model_200, and model_500.\n",
    "\n",
    "Now, let us run Step 4. Save the training errors into a list called **validation_errors**."
   ]
  },
  {
   "cell_type": "code",
   "execution_count": null,
   "metadata": {
    "collapsed": false
   },
   "outputs": [],
   "source": [
    "validation_errors = [1-i for i in accuracies_validation_data]"
   ]
  },
  {
   "cell_type": "markdown",
   "metadata": {},
   "source": [
    "Now, we will plot the **training_errors** and **validation_errors** versus the number of trees. We will compare the 10, 50, 100, 200, and 500 tree models. We provide some plotting code to visualize the plots within this notebook.\n",
    "\n",
    "Run the following code to visualize the plots."
   ]
  },
  {
   "cell_type": "code",
   "execution_count": null,
   "metadata": {
    "collapsed": false
   },
   "outputs": [],
   "source": [
    "plt.plot([10, 50, 100, 200, 500], training_errors, linewidth=4.0, label='Training error')\n",
    "plt.plot([10, 50, 100, 200, 500], validation_errors, linewidth=4.0, label='Validation error')\n",
    "\n",
    "make_figure(dim=(10,5), title='Error vs number of trees',\n",
    "            xlabel='Number of trees',\n",
    "            ylabel='Classification error',\n",
    "            legend='best')"
   ]
  },
  {
   "cell_type": "markdown",
   "metadata": {},
   "source": [
    "**Quiz question**: Does the training error reduce as the number of trees increases?\n",
    "\n",
    "**Quiz question**: Is it always true that the validation error will reduce as the number of trees increases?"
   ]
  },
  {
   "cell_type": "code",
   "execution_count": null,
   "metadata": {
    "collapsed": true
   },
   "outputs": [],
   "source": []
  }
 ],
 "metadata": {
  "kernelspec": {
   "display_name": "Python 2",
   "language": "python",
   "name": "python2"
  },
  "language_info": {
   "codemirror_mode": {
    "name": "ipython",
    "version": 2
   },
   "file_extension": ".py",
   "mimetype": "text/x-python",
   "name": "python",
   "nbconvert_exporter": "python",
   "pygments_lexer": "ipython2",
   "version": "2.7.11"
  }
 },
 "nbformat": 4,
 "nbformat_minor": 0
}
